{
 "cells": [
  {
   "cell_type": "code",
   "execution_count": 1,
   "metadata": {},
   "outputs": [],
   "source": [
    "import pandas as pd\n",
    "import nltk.data\n",
    "import matplotlib.pyplot as plt\n",
    "import numpy as np\n",
    "from os import listdir\n",
    "from os.path import isfile, join\n",
    "from nltk.util import bigrams \n",
    "from nltk.tokenize import TreebankWordTokenizer\n",
    "sentence_tokenizer = nltk.data.load('tokenizers/punkt/english.pickle')\n",
    "treebank_tokenizer = TreebankWordTokenizer()\n",
    "stop_words = nltk.corpus.stopwords.words('english')\n",
    "from nltk.stem import WordNetLemmatizer\n",
    "wordnet_lemmatizer = WordNetLemmatizer()\n",
    "\n",
    "# can reference to this website if interested: \n",
    "# https://medium.com/@sandeep.panchal545/sentiment-analysis-with-vader-label-the-unlabeled-data-8dd785225166\n",
    "\n",
    "# You might need to install some of the packages, let me know if you need help :)"
   ]
  },
  {
   "cell_type": "code",
   "execution_count": 2,
   "metadata": {},
   "outputs": [],
   "source": [
    "# load in data\n",
    "df = pd.read_csv(\"./Data/mar-apr_All(without COVID-19).csv\")"
   ]
  },
  {
   "cell_type": "code",
   "execution_count": 3,
   "metadata": {},
   "outputs": [
    {
     "data": {
      "text/html": [
       "<div>\n",
       "<style scoped>\n",
       "    .dataframe tbody tr th:only-of-type {\n",
       "        vertical-align: middle;\n",
       "    }\n",
       "\n",
       "    .dataframe tbody tr th {\n",
       "        vertical-align: top;\n",
       "    }\n",
       "\n",
       "    .dataframe thead th {\n",
       "        text-align: right;\n",
       "    }\n",
       "</style>\n",
       "<table border=\"1\" class=\"dataframe\">\n",
       "  <thead>\n",
       "    <tr style=\"text-align: right;\">\n",
       "      <th></th>\n",
       "      <th>title</th>\n",
       "      <th>text</th>\n",
       "      <th>media</th>\n",
       "      <th>word_count</th>\n",
       "    </tr>\n",
       "  </thead>\n",
       "  <tbody>\n",
       "    <tr>\n",
       "      <th>0</th>\n",
       "      <td>LGBTQ community may be 'particularly vulnerabl...</td>\n",
       "      <td>Hide highlightingAbstractTranslateUndo Transla...</td>\n",
       "      <td>USA Today (Online)</td>\n",
       "      <td>1336</td>\n",
       "    </tr>\n",
       "    <tr>\n",
       "      <th>1</th>\n",
       "      <td>Meghan McCain announces she's pregnant, self-i...</td>\n",
       "      <td>Hide highlightingAbstractTranslateUndo Transla...</td>\n",
       "      <td>USA Today (Online)</td>\n",
       "      <td>316</td>\n",
       "    </tr>\n",
       "    <tr>\n",
       "      <th>2</th>\n",
       "      <td>Sports Without Live Sports: [Correction]</td>\n",
       "      <td>Hide highlightingFull TextTranslateUndo Transl...</td>\n",
       "      <td>New York Times</td>\n",
       "      <td>847</td>\n",
       "    </tr>\n",
       "    <tr>\n",
       "      <th>3</th>\n",
       "      <td>Who gets a shot at life if hospitals run short...</td>\n",
       "      <td>Hide highlightingFull TextTranslateUndo Transl...</td>\n",
       "      <td>The Washington Post</td>\n",
       "      <td>2186</td>\n",
       "    </tr>\n",
       "    <tr>\n",
       "      <th>4</th>\n",
       "      <td>Survivors Fume as China Insists on Quiet Buria...</td>\n",
       "      <td>Hide highlightingFull TextTranslateUndo Transl...</td>\n",
       "      <td>New York Times</td>\n",
       "      <td>1608</td>\n",
       "    </tr>\n",
       "  </tbody>\n",
       "</table>\n",
       "</div>"
      ],
      "text/plain": [
       "                                               title  \\\n",
       "0  LGBTQ community may be 'particularly vulnerabl...   \n",
       "1  Meghan McCain announces she's pregnant, self-i...   \n",
       "2           Sports Without Live Sports: [Correction]   \n",
       "3  Who gets a shot at life if hospitals run short...   \n",
       "4  Survivors Fume as China Insists on Quiet Buria...   \n",
       "\n",
       "                                                text                media  \\\n",
       "0  Hide highlightingAbstractTranslateUndo Transla...   USA Today (Online)   \n",
       "1  Hide highlightingAbstractTranslateUndo Transla...   USA Today (Online)   \n",
       "2  Hide highlightingFull TextTranslateUndo Transl...       New York Times   \n",
       "3  Hide highlightingFull TextTranslateUndo Transl...  The Washington Post   \n",
       "4  Hide highlightingFull TextTranslateUndo Transl...       New York Times   \n",
       "\n",
       "   word_count  \n",
       "0        1336  \n",
       "1         316  \n",
       "2         847  \n",
       "3        2186  \n",
       "4        1608  "
      ]
     },
     "execution_count": 3,
     "metadata": {},
     "output_type": "execute_result"
    }
   ],
   "source": [
    "df.head()"
   ]
  },
  {
   "cell_type": "code",
   "execution_count": 4,
   "metadata": {},
   "outputs": [
    {
     "data": {
      "text/plain": [
       "0     Hide highlightingAbstractTranslateUndo Transla...\n",
       "1     Hide highlightingAbstractTranslateUndo Transla...\n",
       "2     Hide highlightingFull TextTranslateUndo Transl...\n",
       "3     Hide highlightingFull TextTranslateUndo Transl...\n",
       "4     Hide highlightingFull TextTranslateUndo Transl...\n",
       "5     Hide highlightingFull TextTranslateUndo Transl...\n",
       "6     Hide highlightingFull TextTranslateUndo Transl...\n",
       "7     Hide highlightingFull TextTurn on search term ...\n",
       "8     Hide highlightingAbstractTranslateUndo Transla...\n",
       "9     Hide highlightingFull TextTranslateUndo Transl...\n",
       "10    Hide highlightingFull TextTranslateUndo Transl...\n",
       "11    Hide highlightingFull TextTranslateUndo Transl...\n",
       "12    Hide highlightingFull TextTranslateUndo Transl...\n",
       "13    Hide highlightingFull TextTranslateUndo Transl...\n",
       "14    Hide highlightingFull TextTranslateUndo Transl...\n",
       "15    Hide highlightingFull TextTranslateUndo Transl...\n",
       "16    Hide highlightingAbstractTranslateUndo Transla...\n",
       "17    Hide highlightingAbstractTranslateUndo Transla...\n",
       "18    Hide highlightingFull TextTranslateUndo Transl...\n",
       "19    Hide highlightingAbstractTranslateUndo Transla...\n",
       "20    Hide highlightingAbstractTranslateUndo Transla...\n",
       "21    Hide highlightingFull TextTranslateUndo Transl...\n",
       "22    Hide highlightingAbstractTranslateUndo Transla...\n",
       "23    Hide highlightingFull TextTranslateUndo Transl...\n",
       "24    Hide highlightingFull TextTranslateUndo Transl...\n",
       "25    Hide highlightingFull TextTranslateUndo Transl...\n",
       "26    Hide highlightingFull TextTranslateUndo Transl...\n",
       "27    Hide highlightingFull TextTurn on search term ...\n",
       "28    Hide highlightingFull TextTranslateUndo Transl...\n",
       "29    Hide highlightingFull TextTranslateUndo Transl...\n",
       "30    Hide highlightingFull TextTranslateUndo Transl...\n",
       "31    Hide highlightingFull TextTranslateUndo Transl...\n",
       "32    Hide highlightingFull TextTranslateUndo Transl...\n",
       "33    Hide highlightingAbstractTranslateUndo Transla...\n",
       "34    Hide highlightingFull TextTranslateUndo Transl...\n",
       "35    Hide highlightingAbstractTranslateUndo Transla...\n",
       "36    Hide highlightingFull TextTranslateUndo Transl...\n",
       "37    Hide highlightingFull TextTranslateUndo Transl...\n",
       "38    Hide highlightingAbstractTranslateUndo Transla...\n",
       "39    Hide highlightingFull TextTranslateUndo Transl...\n",
       "40    Hide highlightingFull TextTranslateUndo Transl...\n",
       "41    Hide highlightingAbstractTranslateUndo Transla...\n",
       "Name: text, dtype: object"
      ]
     },
     "execution_count": 4,
     "metadata": {},
     "output_type": "execute_result"
    }
   ],
   "source": [
    "# extract text\n",
    "df_text = df.iloc[:,1]\n",
    "df_text"
   ]
  },
  {
   "cell_type": "code",
   "execution_count": 5,
   "metadata": {},
   "outputs": [],
   "source": [
    "# Doing Sentiment Analysis for each candidates\n",
    "from nltk.sentiment.vader import SentimentIntensityAnalyzer\n",
    "#nltk.download('vader_lexicon')\n",
    "sia = SentimentIntensityAnalyzer()"
   ]
  },
  {
   "cell_type": "code",
   "execution_count": 6,
   "metadata": {},
   "outputs": [],
   "source": [
    "# Test each token as positive, negative or neutral, and generate a score\n",
    "\n",
    "df_table = []\n",
    "for i in df['text']:\n",
    "    df_scores = {}\n",
    "    df_scores['sia_positive'] = sia.polarity_scores(i)['pos']*100\n",
    "    df_scores['sia_negative'] = sia.polarity_scores(i)['neg']*100\n",
    "    df_scores['sia_neutral'] = sia.polarity_scores(i)['neu']*100\n",
    "    df_scores['sia_compound'] = sia.polarity_scores(i)['compound']\n",
    "    \n",
    "    df_table.append(df_scores)\n",
    "    \n",
    "#print(sia_table)"
   ]
  },
  {
   "cell_type": "code",
   "execution_count": 7,
   "metadata": {},
   "outputs": [
    {
     "name": "stdout",
     "output_type": "stream",
     "text": [
      "    sia_positive  sia_negative  sia_neutral  sia_compound\n",
      "0            9.0           7.3         83.7        0.9921\n",
      "1            9.8           2.6         87.7        0.9957\n",
      "2           15.6           4.9         79.6        0.9991\n",
      "3            8.9           7.6         83.6        0.9834\n",
      "4            9.3          10.7         79.9       -0.9638\n",
      "5            8.3           7.8         83.9        0.8324\n",
      "6            6.6           6.1         87.3        0.8890\n",
      "7            7.7          11.6         80.7       -0.9921\n",
      "8            7.4           6.3         86.3        0.9978\n",
      "9            7.5          12.7         79.7       -0.9971\n",
      "10           8.1           2.9         89.0        0.9979\n",
      "11           8.1          10.6         81.3       -0.9992\n",
      "12           9.3          11.2         79.4       -0.9940\n",
      "13           5.9           5.8         88.3        0.5890\n",
      "14           7.0           5.7         87.3        0.9867\n",
      "15          10.0           9.1         80.9        0.9751\n",
      "16          14.6           8.1         77.3        0.9988\n",
      "17           8.7          10.4         80.9       -0.9759\n",
      "18           7.9           9.4         82.7       -0.9928\n",
      "19           9.0           6.5         84.6        0.9973\n",
      "20           7.0           7.1         85.9       -0.6944\n",
      "21           8.7           5.4         85.9        0.9945\n",
      "22           8.7           4.8         86.5        0.9961\n",
      "23           7.6           5.5         86.9        0.9905\n",
      "24           5.9           4.3         89.8        0.9587\n",
      "25           6.3           5.4         88.3        0.9755\n",
      "26          10.6           1.3         88.1        0.9992\n",
      "27           6.6           7.6         85.8       -0.8576\n",
      "28           5.8           7.4         86.7       -0.9992\n",
      "29          13.8           7.5         78.7        0.9994\n",
      "30          12.5          10.2         77.3        0.9975\n",
      "31          12.5          10.4         77.1        0.9969\n",
      "32           8.5           3.9         87.6        0.9987\n",
      "33           7.0           7.2         85.8       -0.9931\n",
      "34           5.5           5.7         88.9       -0.5572\n",
      "35          11.5           7.3         81.2        0.9972\n",
      "36          10.1           3.8         86.1        0.9982\n",
      "37           6.7           4.5         88.7        0.9917\n",
      "38           8.8           5.1         86.1        0.9998\n",
      "39           8.6           3.5         87.8        0.9988\n",
      "40           7.5           7.3         85.2        0.6339\n",
      "41           7.3           6.4         86.3        0.9935\n"
     ]
    }
   ],
   "source": [
    "# See the results\n",
    "df_table = pd.DataFrame(df_table)\n",
    "#df_table=df_table.sort_values(by='sia_compound' , ascending=False).reset_index(drop=True)\n",
    "\n",
    "print(df_table)"
   ]
  },
  {
   "cell_type": "code",
   "execution_count": 8,
   "metadata": {},
   "outputs": [
    {
     "data": {
      "text/html": [
       "<div>\n",
       "<style scoped>\n",
       "    .dataframe tbody tr th:only-of-type {\n",
       "        vertical-align: middle;\n",
       "    }\n",
       "\n",
       "    .dataframe tbody tr th {\n",
       "        vertical-align: top;\n",
       "    }\n",
       "\n",
       "    .dataframe thead th {\n",
       "        text-align: right;\n",
       "    }\n",
       "</style>\n",
       "<table border=\"1\" class=\"dataframe\">\n",
       "  <thead>\n",
       "    <tr style=\"text-align: right;\">\n",
       "      <th></th>\n",
       "      <th>sia_positive</th>\n",
       "      <th>sia_negative</th>\n",
       "      <th>sia_neutral</th>\n",
       "      <th>sia_compound</th>\n",
       "    </tr>\n",
       "  </thead>\n",
       "  <tbody>\n",
       "    <tr>\n",
       "      <th>Mar - Apr 2020</th>\n",
       "      <td>8.719048</td>\n",
       "      <td>6.878571</td>\n",
       "      <td>84.4</td>\n",
       "      <td>0.422333</td>\n",
       "    </tr>\n",
       "  </tbody>\n",
       "</table>\n",
       "</div>"
      ],
      "text/plain": [
       "                sia_positive  sia_negative  sia_neutral  sia_compound\n",
       "Mar - Apr 2020      8.719048      6.878571         84.4      0.422333"
      ]
     },
     "execution_count": 8,
     "metadata": {},
     "output_type": "execute_result"
    }
   ],
   "source": [
    "# See what kinds of sentiment appear more\n",
    "df_mean = df_table.mean()\n",
    "df_mean = df_mean.to_frame().transpose()\n",
    "df_mean = df_mean.rename(index={0:'Mar - Apr 2020'})\n",
    "df_mean"
   ]
  },
  {
   "cell_type": "markdown",
   "metadata": {},
   "source": [
    "I think there's some problem with the result. We still need to do some research on this, I'll start googling this issue.\n",
    "1. The mean method might be wrong. Not sure if we can use mean() to evaluate the results.\n",
    "2. General rules for compound values:\n",
    "    >x >= 0.05 positive | \n",
    "    -0.05 < x < 0.05 neutral | \n",
    "    x <= -0.05 negative\n",
    "    >\n",
    "  We can see that our compound values' polarities are super high, which might not be common. \n",
    "3. I've googled around, and saw that most of the values for pos, neg and neu are between 0 and 1. To be honest, I don't know why we have such high values for each article\n",
    "    >We might need to remove the noises and break up the sentences,and then apply the analyzer.\n",
    "4. We could also look at the results base on different medias.    \n"
   ]
  },
  {
   "cell_type": "code",
   "execution_count": 9,
   "metadata": {},
   "outputs": [],
   "source": [
    "# This step can be generated after we achieve all three periods of time.\n",
    "\n",
    "# df = pd.DataFrame({\n",
    "#     'sia_positve': [8.795111, 9.393333, 9.904222],\n",
    "#     'sia_negative': [6.300889, 5.545556, 5.417778],\n",
    "#     'sia_neutral': [84.904889, 85.062222, 84.674000]\n",
    "# }, index=['Nov - Dec 2019', 'Jan - Feb 2020', 'Mar - Apr 2020'])\n",
    "# df"
   ]
  },
  {
   "cell_type": "code",
   "execution_count": 10,
   "metadata": {},
   "outputs": [],
   "source": [
    "# This step can also be generated after we achieve the full results.\n",
    "\n",
    "# N = 3\n",
    "# ind = np.arange(N)  # the x locations for the groups\n",
    "# width = 0.27       # the width of the bars\n",
    "\n",
    "# fig = plt.figure()\n",
    "# ax = fig.add_subplot(111)\n",
    "\n",
    "# yvals = [8.795111, 6.300889,84.904889]\n",
    "# rects1 = ax.bar(ind, yvals, width, color='r')\n",
    "# zvals = [9.393333, 5.545556, 85.062222]\n",
    "# rects2 = ax.bar(ind+width, zvals, width, color='g')\n",
    "# kvals = [9.904222, 5.417778, 84.674000]\n",
    "# rects3 = ax.bar(ind+width*2, kvals, width, color='b')\n",
    "\n",
    "\n",
    "# ax.set_ylabel('Scores')\n",
    "# ax.set_xticks(ind+width)\n",
    "# ax.set_xticklabels( ('SIA_Positive', 'SIA_Negative', 'SIA_Neutral') )\n",
    "# ax.legend((rects1[0], rects2[0], rects3[0]), ('Trump', 'Biden', 'Sanders'), loc = 'best' )\n",
    "\n",
    "\n",
    "# def autolabel(rects):\n",
    "#     for rect in rects:\n",
    "#         h = rect.get_height()\n",
    "#         ax.text(rect.get_x()+rect.get_width()/2., 1.05*h, '%d'%int(h),\n",
    "#                 ha='center', va='bottom')\n",
    "\n",
    "# autolabel(rects1)\n",
    "# autolabel(rects2)\n",
    "# autolabel(rects3)\n",
    "\n",
    "# plt.show()\n"
   ]
  },
  {
   "cell_type": "markdown",
   "metadata": {},
   "source": [
    "Hi guys, guess what. I've managed two ways to analyze the sentiment.\n",
    "1. Continue to use SentimentIntensityAnalyzer(): \n",
    "    > Could possibly come out with some interesting results, but I didn't really find out a way to productively give outputs, so right now it's time consuming, but everyone can participate and learn some new things.\n",
    "2. Using a new method called TextBlob(), which is another sentiment analyze tool:\n",
    "    > Advantages: this method has two elements \n",
    "    - polarity (-1 to 1)\n",
    "     - X < 0: negative | X = 0: neutral | X > 0: positive \n",
    "    - subjectivity (0 to 1), where 0 is very objective, and 1 is very subjective\n",
    "    \n",
    "    > Disadvantages: I've applied the method for MAR - APR, but the outcomes seems very neutral for both elements."
   ]
  },
  {
   "cell_type": "code",
   "execution_count": 11,
   "metadata": {},
   "outputs": [
    {
     "name": "stdout",
     "output_type": "stream",
     "text": [
      "Overall sentiment dictionary is :  {'neg': 0.073, 'neu': 0.837, 'pos': 0.09, 'compound': 0.9921}\n",
      "sentence was rated as  7.3 % Negative\n",
      "sentence was rated as  83.7 % Neutral\n",
      "sentence was rated as  9.0 % Positive\n",
      "Sentence Overall Rated As Positive\n"
     ]
    }
   ],
   "source": [
    "# Method 1: Continue to use SentimentIntensityAnalyzer()\n",
    "test = df_text[0]\n",
    "# sentiment_dict = sia.polarity_scores(test)\n",
    "# print(\"Overall sentiment dictionary is : \", sentiment_dict) \n",
    "# print(\"sentence was rated as \", sentiment_dict['neg']*100, \"% Negative\") \n",
    "# print(\"sentence was rated as \", sentiment_dict['neu']*100, \"% Neutral\") \n",
    "# print(\"sentence was rated as \", sentiment_dict['pos']*100, \"% Positive\") \n",
    "  \n",
    "# print(\"Sentence Overall Rated As\", end = \" \") \n",
    "  \n",
    "#     # decide sentiment as positive, negative and neutral \n",
    "# if sentiment_dict['compound'] >= 0.05 : \n",
    "#     print(\"Positive\") \n",
    "  \n",
    "# elif sentiment_dict['compound'] <= -0.05 : \n",
    "#     print(\"Negative\") \n",
    "  \n",
    "# else : \n",
    "#     print(\"Neutral\") "
   ]
  },
  {
   "cell_type": "code",
   "execution_count": 12,
   "metadata": {},
   "outputs": [],
   "source": [
    "def sentiment_analyzer_scores(sentence):\n",
    "    score = sia.polarity_scores(sentence)\n",
    "    print(\"{:-<40} {}\".format(sentence, str(score)))"
   ]
  },
  {
   "cell_type": "code",
   "execution_count": 13,
   "metadata": {},
   "outputs": [],
   "source": [
    "a_list = nltk.tokenize.sent_tokenize(test)"
   ]
  },
  {
   "cell_type": "code",
   "execution_count": 14,
   "metadata": {},
   "outputs": [
    {
     "data": {
      "text/plain": [
       "['Cancel\\nOverlayEndTurn on search term navigationTurn on search term navigation\\n| Jump to first hitLOUISVILLE, Ky. – As the worldwide spread of COVID-19 has spiraled into a pandemic, national health organizations are warning that some members of the LGBTQ community may be “particularly vulnerable” to the effects of the virus.',\n",
       " 'While LGBTQ individuals have not been found to be more susceptible to contracting COVID-19, some health habits within the community, including significantly higher rates of smoking than the general population, have raised concern among health professionals.',\n",
       " 'Over 100 different national organizations, including Whitman-Walker Health and SAGE, have signed a letter created by the LGBT Cancer Network to bring attention to several factors that could mean the LGBTQ community is at a greater risk of complications from COVID-19, including: LGBTQ people smoke at rates 50% higher than the general population, which could be detrimental if a respiratory illness like COVID-19 is contracted.',\n",
       " 'Higher rates of HIV and cancer in the LGBTQ community means that a greater number of people may have compromised immune systems, which leaves them more vulnerable to COVID-19 infections.',\n",
       " 'Health care discrimination in America, including denial of care, unwelcoming attitudes and lack of understanding from staff and providers means LGBTQ people may be more reluctant to seek medical care.',\n",
       " 'Not your standard Q-tips: Coronavirus test swabs running out as testing ramps up School closings: Will states need to hold kids back, institute summer school because of coronavirus?',\n",
       " 'In addition, the LGBT Cancer Network warns, there are more than 3 million LGBTQ+ elderly people living in the U. S. who are already less likely than their heterosexual and cisgender peers to reach out to health and aging providers, like senior centers, meal programs and other programs designed to ensure their health and wellness because they fear discrimination and harassment.',\n",
       " \"'A time to pay attention to vulnerable communities' LGBTQ communities are all-too familiar with the phenomena of stigma and epidemics, said Chris Hartman, director of Kentucky's Fairness Campaign.\",\n",
       " \"Groups like the Fairness Campaign, SAGE of the Bluegrass and Louisville Pride Foundation have been meeting via conference calls this week to talk about how to provide resources for the Commonwealth's LGBTQ community.\",\n",
       " '\"Our queer community was wholly ignored for years at the beginning of the AIDS crisis, and we saw where that led,\" Hartman told The Louisville Courier Journal, part of the USA TODAY Network.',\n",
       " '\"HIV/AIDS devastated the LGBTQ community .',\n",
       " '.',\n",
       " '.',\n",
       " \"unhindered because of the government's intentional inaction as disrespect for LGBTQ people in our community.\",\n",
       " '\"This is a time to pay attention to vulnerable communities, not just folks who are in the age range at risk of contracting COVID-19,\" Hartman said.',\n",
       " '\"We need to be talking about people with suppressed immune systems and those who need to be supported most in a time like this. \"',\n",
       " 'Physician Scott Nass was watching closely over the past few months, acutely aware of how COVID-19 may affect his LGBTQ patients.',\n",
       " 'The Kentucky native who works in Palm Springs, California, knows that HIV and cancer are more common in LGBTQ communities – not only because of lifestyle choices, such as higher smoking rates, but because of prolonged or delayed access to care.',\n",
       " \"Folks who identify as LGBTQ don't always feel welcome in the health care environment, Nass told The Louisville Courier Journal, pointing to studies that have found they often report episodes of emotional and psychological trauma from their experiences dealing with the health care system.\",\n",
       " \"A fatalist feeling for some: 'If I get it, I get it' It took Louisville lawyer Bruce Kleinschmidt months to find a new primary care doctor after switching from a practice where he says he experienced homophobic comments from his physician.\",\n",
       " '\"There\\'s a huge problem with finding a primary care doctor to begin with, even when there\\'s not a crisis going on,\" Kleinschmidt said.',\n",
       " 'As COVID-19 has spread and federal, state and local governments are mandating social distancing in an effort to stop or slow the spread of contagious diseases by restricting contact with people, especially in large groups, Kleinschmidt says he\\'s noticed a common fatalist feeling among his peers in the LGBTQ community – folks saying, \"If I get it, I get it. \"',\n",
       " 'But the 67-year-old lawyer, who has liver disease, is concerned about his own susceptibility to the virus, and how he may be treated if he needs to seek medical care.',\n",
       " 'Many states, including Kentucky, do not have laws prohibiting health insurance companies from discriminating based on gender or sexual orientation, according to the Movement Advancement Project.',\n",
       " 'Even young or healthy LGBTQ people may be less likely to seek care, Nass said.',\n",
       " '\"But now that we\\'re dealing with coronavirus, something as simple as asthma could really be the difference between a mild case and being placed on a ventilator in the hospital,\" he said.',\n",
       " '\"So it\\'s important that we\\'re making sure that folks get into care early. \"',\n",
       " \"Uncooperative coronavirus patients: Kentucky man who tests positive for coronavirus refuses to stay home; N. J. woman gives fake name Still, 'a sense of resilience in the LGBTQ community' About 80% of the people who get COVID-19 have mild or no symptoms, according to the World Health Organization.\",\n",
       " 'But older adults and people with serious chronic medical conditions – including heart disease, diabetes and lung disease – are at higher risk, according to the Centers for Disease Control and Prevention.',\n",
       " 'Symptoms include difficulty breathing or shortness of breath, as well as pain or pressure in the chest, which can lead to a type of respiratory pneumonia in the lungs.',\n",
       " 'Doctors are still working on estimating the mortality rate of COVID-19, but it is thought to be higher than most flu strains, according to Johns Hopkins Medicine.',\n",
       " 'That is partly because this is a new coronavirus, and people have no immunity to it.',\n",
       " \"The pandemic is showing us that the country needs to be equipped to take care of a lot of patients in a very short period of time, Nass added – whether that's screening hundreds of people a day through drive-thru tents or on a phone line – to halt the contagion.\",\n",
       " '\"We\\'re not saying that LGBTQ folks need special treatment in this pandemic, but there needs to be consideration of the disparities in health equity for our community,\" said Nass, who is also the president of GLMA: Health Professionals Advancing LGBTQ Equality.',\n",
       " 'Nass said there is some concern that young queer people may be turned away from testing if they don\\'t fit the \"at-risk\" age demographic, which is why the LGBT Cancer Network is calling on public health officials to ensure the LGBTQ community is considered and included in the public health response to COVID-19.',\n",
       " '\"Hopefully we can draw our attention to the fact that physicians need to create welcoming environments for people of all identities while providing care, especially in this type of pandemic when people are panicking and unsure,\" Nass said.',\n",
       " '\"I think that\\'s when it\\'s more important than ever to make sure that folks have somewhere that they can turn to. \"',\n",
       " \"The Louisville Courier Journal contacted the University of Louisville Hospital, University of Kentucky's LGBT-inclusive Transform Health Clinic and Norton Healthcare to learn more about how Kentucky health providers are considering the LGBTQ community in its treatment of COVID-19, but representatives did not respond to multiple requests for comment as of press time.\",\n",
       " \"For Hartman and others, there's a sense of resilience in the LGBTQ community.\",\n",
       " '\"We have survived,\" Hartman said.',\n",
       " '\"And I know that we will continue to endure and to embrace our community as we have survived so many hardships for so long.',\n",
       " 'It is through the love and mutual support of our very vibrant, diverse and strong community that we get through this before we see the light at the end of this tunnel. \"',\n",
       " 'Follow reporter Savannah Eadens on Twitter at @savannaheadens.',\n",
       " \"'Gross misjudgment': Experts say Trump's decision to disband pandemic team hindered coronavirus response 2020 election: Bernie Sanders reassessing campaign after recent primary losses This article originally appeared on Louisville Courier Journal: LGBTQ community may be 'particularly vulnerable' to coronavirus pandemic.\",\n",
       " \"Here's why.\"]"
      ]
     },
     "execution_count": 14,
     "metadata": {},
     "output_type": "execute_result"
    }
   ],
   "source": [
    "# This is the part where it gets time consuming. I get rid of the \"noise\" words and sentences, but there are at different positions for each \n",
    "# articles, so we need to go through all the articles, it's not hard, it just takes time.\n",
    "a_list_c = a_list[11:56]\n",
    "#a_list_c"
   ]
  },
  {
   "cell_type": "code",
   "execution_count": 15,
   "metadata": {},
   "outputs": [
    {
     "name": "stdout",
     "output_type": "stream",
     "text": [
      "Here's why.----------------------------- {'neg': 0.0, 'neu': 1.0, 'pos': 0.0, 'compound': 0.0}\n"
     ]
    }
   ],
   "source": [
    "sentiment_analyzer_scores(a_list_c[44])"
   ]
  },
  {
   "cell_type": "code",
   "execution_count": 16,
   "metadata": {},
   "outputs": [],
   "source": [
    "# First Article\n",
    "df_fr = []\n",
    "for i in a_list_c:\n",
    "    df_scores = {}\n",
    "    df_scores['sia_positive'] = sia.polarity_scores(i)['pos']*100\n",
    "    df_scores['sia_negative'] = sia.polarity_scores(i)['neg']*100\n",
    "    df_scores['sia_neutral'] = sia.polarity_scores(i)['neu']*100\n",
    "    df_scores['sia_compound'] = sia.polarity_scores(i)['compound']\n",
    "    \n",
    "    df_fr.append(df_scores)\n",
    "    \n",
    "df_fr = pd.DataFrame(df_fr)\n",
    "df_fr_mean = df_fr.mean() \n",
    "    "
   ]
  },
  {
   "cell_type": "code",
   "execution_count": 17,
   "metadata": {},
   "outputs": [
    {
     "name": "stdout",
     "output_type": "stream",
     "text": [
      "    sia_positive  sia_negative  sia_neutral  sia_compound\n",
      "0            0.0           8.9         91.1       -0.5267\n",
      "1            0.0           0.0        100.0        0.0000\n",
      "2            9.7          12.7         77.6       -0.4939\n",
      "3           16.4          18.0         65.6       -0.3804\n",
      "4           24.5          11.7         63.8        0.7190\n",
      "5            0.0           0.0        100.0        0.0000\n",
      "6           12.4          17.0         70.7       -0.6597\n",
      "7            0.0          11.3         88.7       -0.3182\n",
      "8           13.6           0.0         86.4        0.5994\n",
      "9            0.0          17.1         82.9       -0.7506\n",
      "10           0.0          50.0         50.0       -0.6124\n",
      "11           0.0           0.0          0.0        0.0000\n",
      "12           0.0           0.0          0.0        0.0000\n",
      "13           0.0          27.0         73.0       -0.5859\n",
      "14           0.0          19.7         80.3       -0.5267\n",
      "15          26.6           0.0         73.4        0.7402\n",
      "16           0.0           0.0        100.0        0.0000\n",
      "17           9.3          10.9         79.8        0.0644\n",
      "18          15.3          10.1         74.6        0.4059\n",
      "19          12.0           3.8         84.2        0.4939\n",
      "20          32.0           9.8         58.2        0.7264\n",
      "21           2.5          14.2         83.3       -0.7351\n",
      "22           9.9           0.0         90.1        0.4939\n",
      "23           0.0           0.0        100.0        0.0000\n",
      "24          31.2           0.0         68.8        0.7096\n",
      "25           0.0           0.0        100.0        0.0000\n",
      "26          43.1           0.0         56.9        0.7635\n",
      "27           6.7           9.8         83.5       -0.1779\n",
      "28           0.0          10.8         89.2       -0.3400\n",
      "29           6.2          23.2         70.6       -0.7003\n",
      "30           0.0          22.0         78.0       -0.7939\n",
      "31           0.0          13.6         86.4       -0.2960\n",
      "32           6.5           6.1         87.4        0.0516\n",
      "33           4.4           0.0         95.6        0.2144\n",
      "34           4.4          11.0         84.6       -0.6007\n",
      "35          23.3           6.2         70.5        0.7906\n",
      "36          18.8           0.0         81.2        0.5256\n",
      "37           0.0           0.0        100.0        0.0000\n",
      "38           0.0           0.0        100.0        0.0000\n",
      "39           0.0           0.0        100.0        0.0000\n",
      "40          21.1           0.0         78.9        0.6808\n",
      "41          33.2           0.0         66.8        0.9312\n",
      "42           0.0           0.0        100.0        0.0000\n",
      "43           0.0          17.8         82.2       -0.7902\n",
      "44           0.0           0.0        100.0        0.0000\n",
      "sia_positive     8.513333\n",
      "sia_negative     8.060000\n",
      "sia_neutral     78.984444\n",
      "sia_compound    -0.008404\n",
      "dtype: float64\n"
     ]
    }
   ],
   "source": [
    "print(df_fr)\n",
    "print(df_fr_mean)"
   ]
  },
  {
   "cell_type": "code",
   "execution_count": 18,
   "metadata": {},
   "outputs": [
    {
     "data": {
      "text/plain": [
       "sia_positive     8.513333\n",
       "sia_negative     8.060000\n",
       "sia_neutral     78.984444\n",
       "sia_compound    -0.008404\n",
       "dtype: float64"
      ]
     },
     "execution_count": 18,
     "metadata": {},
     "output_type": "execute_result"
    }
   ],
   "source": [
    "df_fr_mean"
   ]
  },
  {
   "cell_type": "code",
   "execution_count": 19,
   "metadata": {},
   "outputs": [],
   "source": [
    "# Second Article\n",
    "b_list = nltk.tokenize.sent_tokenize(df['text'][1])"
   ]
  },
  {
   "cell_type": "code",
   "execution_count": 20,
   "metadata": {},
   "outputs": [],
   "source": [
    "b_list = b_list[13:33]"
   ]
  },
  {
   "cell_type": "code",
   "execution_count": 21,
   "metadata": {},
   "outputs": [],
   "source": [
    "df_b = []\n",
    "for i in b_list:\n",
    "    df_scores = {}\n",
    "    df_scores['sia_positive'] = sia.polarity_scores(i)['pos']*100\n",
    "    df_scores['sia_negative'] = sia.polarity_scores(i)['neg']*100\n",
    "    df_scores['sia_neutral'] = sia.polarity_scores(i)['neu']*100\n",
    "    df_scores['sia_compound'] = sia.polarity_scores(i)['compound']\n",
    "    \n",
    "    df_b.append(df_scores)\n",
    "    \n",
    "df_b = pd.DataFrame(df_b)\n",
    "df_b_mean = df_b.mean() \n",
    "    "
   ]
  },
  {
   "cell_type": "code",
   "execution_count": 22,
   "metadata": {},
   "outputs": [
    {
     "data": {
      "text/plain": [
       "sia_positive    12.855000\n",
       "sia_negative     2.265000\n",
       "sia_neutral     84.880000\n",
       "sia_compound     0.206885\n",
       "dtype: float64"
      ]
     },
     "execution_count": 22,
     "metadata": {},
     "output_type": "execute_result"
    }
   ],
   "source": [
    "df_b_mean"
   ]
  },
  {
   "cell_type": "code",
   "execution_count": 36,
   "metadata": {},
   "outputs": [],
   "source": [
    "# Third Article\n",
    "c_list = nltk.tokenize.sent_tokenize(df['text'][2])\n",
    "c_list = c_list[1:33]"
   ]
  },
  {
   "cell_type": "code",
   "execution_count": 43,
   "metadata": {},
   "outputs": [
    {
     "data": {
      "text/plain": [
       "sia_positive    12.093750\n",
       "sia_negative     5.178125\n",
       "sia_neutral     82.718750\n",
       "sia_compound     0.292913\n",
       "dtype: float64"
      ]
     },
     "execution_count": 43,
     "metadata": {},
     "output_type": "execute_result"
    }
   ],
   "source": [
    "df_c = []\n",
    "for i in c_list:\n",
    "    df_scores = {}\n",
    "    df_scores['sia_positive'] = sia.polarity_scores(i)['pos']*100\n",
    "    df_scores['sia_negative'] = sia.polarity_scores(i)['neg']*100\n",
    "    df_scores['sia_neutral'] = sia.polarity_scores(i)['neu']*100\n",
    "    df_scores['sia_compound'] = sia.polarity_scores(i)['compound']\n",
    "    \n",
    "    df_c.append(df_scores)\n",
    "    \n",
    "df_c = pd.DataFrame(df_c)\n",
    "df_c_mean = df_c.mean() \n",
    "df_c_mean    "
   ]
  },
  {
   "cell_type": "code",
   "execution_count": 56,
   "metadata": {},
   "outputs": [],
   "source": [
    "# Fourth Article\n",
    "d_list = nltk.tokenize.sent_tokenize(df['text'][3])\n",
    "d_list = d_list[1:83]"
   ]
  },
  {
   "cell_type": "code",
   "execution_count": 57,
   "metadata": {},
   "outputs": [
    {
     "data": {
      "text/plain": [
       "sia_positive     8.132927\n",
       "sia_negative     8.040244\n",
       "sia_neutral     83.825610\n",
       "sia_compound    -0.003277\n",
       "dtype: float64"
      ]
     },
     "execution_count": 57,
     "metadata": {},
     "output_type": "execute_result"
    }
   ],
   "source": [
    "df_d = []\n",
    "for i in d_list:\n",
    "    df_scores = {}\n",
    "    df_scores['sia_positive'] = sia.polarity_scores(i)['pos']*100\n",
    "    df_scores['sia_negative'] = sia.polarity_scores(i)['neg']*100\n",
    "    df_scores['sia_neutral'] = sia.polarity_scores(i)['neu']*100\n",
    "    df_scores['sia_compound'] = sia.polarity_scores(i)['compound']\n",
    "    \n",
    "    df_d.append(df_scores)\n",
    "    \n",
    "df_d = pd.DataFrame(df_d)\n",
    "df_d_mean = df_d.mean() \n",
    "df_d_mean "
   ]
  },
  {
   "cell_type": "code",
   "execution_count": 58,
   "metadata": {},
   "outputs": [],
   "source": [
    "# Method 2: Try the new method! TextBlob!!\n",
    "from textblob import TextBlob"
   ]
  },
  {
   "cell_type": "code",
   "execution_count": 88,
   "metadata": {},
   "outputs": [
    {
     "data": {
      "text/plain": [
       "0.13779036004645764"
      ]
     },
     "execution_count": 88,
     "metadata": {},
     "output_type": "execute_result"
    }
   ],
   "source": [
    "testimonial = TextBlob(test)\n",
    "testimonial.sentiment\n",
    "\n",
    "#testimonial.sentiment.polarity\n",
    "tb = TextBlob(df['text'][0])\n",
    "tb.sentiment[0]"
   ]
  },
  {
   "cell_type": "code",
   "execution_count": 93,
   "metadata": {},
   "outputs": [],
   "source": [
    "df_textb = []\n",
    "i = 0\n",
    "for i in range(0, len(df['text'])):\n",
    "    df_scores = {}\n",
    "    tb = TextBlob(df['text'][i])\n",
    "    df_scores['polarity'] = tb.sentiment[0]\n",
    "    df_scores['subjectivity'] = tb.sentiment.subjectivity\n",
    "    \n",
    "    df_textb.append(df_scores)"
   ]
  },
  {
   "cell_type": "code",
   "execution_count": 94,
   "metadata": {},
   "outputs": [
    {
     "data": {
      "text/html": [
       "<div>\n",
       "<style scoped>\n",
       "    .dataframe tbody tr th:only-of-type {\n",
       "        vertical-align: middle;\n",
       "    }\n",
       "\n",
       "    .dataframe tbody tr th {\n",
       "        vertical-align: top;\n",
       "    }\n",
       "\n",
       "    .dataframe thead th {\n",
       "        text-align: right;\n",
       "    }\n",
       "</style>\n",
       "<table border=\"1\" class=\"dataframe\">\n",
       "  <thead>\n",
       "    <tr style=\"text-align: right;\">\n",
       "      <th></th>\n",
       "      <th>polarity</th>\n",
       "      <th>subjectivity</th>\n",
       "    </tr>\n",
       "  </thead>\n",
       "  <tbody>\n",
       "    <tr>\n",
       "      <th>0</th>\n",
       "      <td>0.137790</td>\n",
       "      <td>0.469815</td>\n",
       "    </tr>\n",
       "    <tr>\n",
       "      <th>1</th>\n",
       "      <td>0.181072</td>\n",
       "      <td>0.431383</td>\n",
       "    </tr>\n",
       "    <tr>\n",
       "      <th>2</th>\n",
       "      <td>0.148458</td>\n",
       "      <td>0.492849</td>\n",
       "    </tr>\n",
       "    <tr>\n",
       "      <th>3</th>\n",
       "      <td>0.071247</td>\n",
       "      <td>0.428280</td>\n",
       "    </tr>\n",
       "    <tr>\n",
       "      <th>4</th>\n",
       "      <td>0.084631</td>\n",
       "      <td>0.387553</td>\n",
       "    </tr>\n",
       "    <tr>\n",
       "      <th>5</th>\n",
       "      <td>0.064294</td>\n",
       "      <td>0.457996</td>\n",
       "    </tr>\n",
       "    <tr>\n",
       "      <th>6</th>\n",
       "      <td>0.122836</td>\n",
       "      <td>0.411656</td>\n",
       "    </tr>\n",
       "    <tr>\n",
       "      <th>7</th>\n",
       "      <td>0.044851</td>\n",
       "      <td>0.424827</td>\n",
       "    </tr>\n",
       "    <tr>\n",
       "      <th>8</th>\n",
       "      <td>0.086727</td>\n",
       "      <td>0.407066</td>\n",
       "    </tr>\n",
       "    <tr>\n",
       "      <th>9</th>\n",
       "      <td>0.064757</td>\n",
       "      <td>0.416325</td>\n",
       "    </tr>\n",
       "    <tr>\n",
       "      <th>10</th>\n",
       "      <td>0.085252</td>\n",
       "      <td>0.346973</td>\n",
       "    </tr>\n",
       "    <tr>\n",
       "      <th>11</th>\n",
       "      <td>0.068459</td>\n",
       "      <td>0.444742</td>\n",
       "    </tr>\n",
       "    <tr>\n",
       "      <th>12</th>\n",
       "      <td>0.077692</td>\n",
       "      <td>0.405757</td>\n",
       "    </tr>\n",
       "    <tr>\n",
       "      <th>13</th>\n",
       "      <td>0.102388</td>\n",
       "      <td>0.434045</td>\n",
       "    </tr>\n",
       "    <tr>\n",
       "      <th>14</th>\n",
       "      <td>0.103621</td>\n",
       "      <td>0.355994</td>\n",
       "    </tr>\n",
       "    <tr>\n",
       "      <th>15</th>\n",
       "      <td>0.060436</td>\n",
       "      <td>0.459541</td>\n",
       "    </tr>\n",
       "    <tr>\n",
       "      <th>16</th>\n",
       "      <td>0.130536</td>\n",
       "      <td>0.457578</td>\n",
       "    </tr>\n",
       "    <tr>\n",
       "      <th>17</th>\n",
       "      <td>0.062363</td>\n",
       "      <td>0.475478</td>\n",
       "    </tr>\n",
       "    <tr>\n",
       "      <th>18</th>\n",
       "      <td>0.101451</td>\n",
       "      <td>0.436916</td>\n",
       "    </tr>\n",
       "    <tr>\n",
       "      <th>19</th>\n",
       "      <td>0.127561</td>\n",
       "      <td>0.460939</td>\n",
       "    </tr>\n",
       "    <tr>\n",
       "      <th>20</th>\n",
       "      <td>0.110222</td>\n",
       "      <td>0.377317</td>\n",
       "    </tr>\n",
       "    <tr>\n",
       "      <th>21</th>\n",
       "      <td>0.133926</td>\n",
       "      <td>0.383644</td>\n",
       "    </tr>\n",
       "    <tr>\n",
       "      <th>22</th>\n",
       "      <td>0.061898</td>\n",
       "      <td>0.400612</td>\n",
       "    </tr>\n",
       "    <tr>\n",
       "      <th>23</th>\n",
       "      <td>0.111009</td>\n",
       "      <td>0.459729</td>\n",
       "    </tr>\n",
       "    <tr>\n",
       "      <th>24</th>\n",
       "      <td>0.099932</td>\n",
       "      <td>0.404280</td>\n",
       "    </tr>\n",
       "    <tr>\n",
       "      <th>25</th>\n",
       "      <td>0.092588</td>\n",
       "      <td>0.354793</td>\n",
       "    </tr>\n",
       "    <tr>\n",
       "      <th>26</th>\n",
       "      <td>0.085367</td>\n",
       "      <td>0.392376</td>\n",
       "    </tr>\n",
       "    <tr>\n",
       "      <th>27</th>\n",
       "      <td>0.073454</td>\n",
       "      <td>0.412103</td>\n",
       "    </tr>\n",
       "    <tr>\n",
       "      <th>28</th>\n",
       "      <td>0.044005</td>\n",
       "      <td>0.386912</td>\n",
       "    </tr>\n",
       "    <tr>\n",
       "      <th>29</th>\n",
       "      <td>0.142365</td>\n",
       "      <td>0.510083</td>\n",
       "    </tr>\n",
       "    <tr>\n",
       "      <th>30</th>\n",
       "      <td>0.134774</td>\n",
       "      <td>0.437123</td>\n",
       "    </tr>\n",
       "    <tr>\n",
       "      <th>31</th>\n",
       "      <td>0.135444</td>\n",
       "      <td>0.433775</td>\n",
       "    </tr>\n",
       "    <tr>\n",
       "      <th>32</th>\n",
       "      <td>0.125047</td>\n",
       "      <td>0.375349</td>\n",
       "    </tr>\n",
       "    <tr>\n",
       "      <th>33</th>\n",
       "      <td>0.121345</td>\n",
       "      <td>0.457219</td>\n",
       "    </tr>\n",
       "    <tr>\n",
       "      <th>34</th>\n",
       "      <td>0.091536</td>\n",
       "      <td>0.387857</td>\n",
       "    </tr>\n",
       "    <tr>\n",
       "      <th>35</th>\n",
       "      <td>0.116274</td>\n",
       "      <td>0.421531</td>\n",
       "    </tr>\n",
       "    <tr>\n",
       "      <th>36</th>\n",
       "      <td>0.131030</td>\n",
       "      <td>0.409518</td>\n",
       "    </tr>\n",
       "    <tr>\n",
       "      <th>37</th>\n",
       "      <td>0.133296</td>\n",
       "      <td>0.407044</td>\n",
       "    </tr>\n",
       "    <tr>\n",
       "      <th>38</th>\n",
       "      <td>0.084402</td>\n",
       "      <td>0.389207</td>\n",
       "    </tr>\n",
       "    <tr>\n",
       "      <th>39</th>\n",
       "      <td>0.127932</td>\n",
       "      <td>0.377507</td>\n",
       "    </tr>\n",
       "    <tr>\n",
       "      <th>40</th>\n",
       "      <td>0.085535</td>\n",
       "      <td>0.408633</td>\n",
       "    </tr>\n",
       "    <tr>\n",
       "      <th>41</th>\n",
       "      <td>0.083169</td>\n",
       "      <td>0.411839</td>\n",
       "    </tr>\n",
       "  </tbody>\n",
       "</table>\n",
       "</div>"
      ],
      "text/plain": [
       "    polarity  subjectivity\n",
       "0   0.137790      0.469815\n",
       "1   0.181072      0.431383\n",
       "2   0.148458      0.492849\n",
       "3   0.071247      0.428280\n",
       "4   0.084631      0.387553\n",
       "5   0.064294      0.457996\n",
       "6   0.122836      0.411656\n",
       "7   0.044851      0.424827\n",
       "8   0.086727      0.407066\n",
       "9   0.064757      0.416325\n",
       "10  0.085252      0.346973\n",
       "11  0.068459      0.444742\n",
       "12  0.077692      0.405757\n",
       "13  0.102388      0.434045\n",
       "14  0.103621      0.355994\n",
       "15  0.060436      0.459541\n",
       "16  0.130536      0.457578\n",
       "17  0.062363      0.475478\n",
       "18  0.101451      0.436916\n",
       "19  0.127561      0.460939\n",
       "20  0.110222      0.377317\n",
       "21  0.133926      0.383644\n",
       "22  0.061898      0.400612\n",
       "23  0.111009      0.459729\n",
       "24  0.099932      0.404280\n",
       "25  0.092588      0.354793\n",
       "26  0.085367      0.392376\n",
       "27  0.073454      0.412103\n",
       "28  0.044005      0.386912\n",
       "29  0.142365      0.510083\n",
       "30  0.134774      0.437123\n",
       "31  0.135444      0.433775\n",
       "32  0.125047      0.375349\n",
       "33  0.121345      0.457219\n",
       "34  0.091536      0.387857\n",
       "35  0.116274      0.421531\n",
       "36  0.131030      0.409518\n",
       "37  0.133296      0.407044\n",
       "38  0.084402      0.389207\n",
       "39  0.127932      0.377507\n",
       "40  0.085535      0.408633\n",
       "41  0.083169      0.411839"
      ]
     },
     "execution_count": 94,
     "metadata": {},
     "output_type": "execute_result"
    }
   ],
   "source": [
    "df_textb = pd.DataFrame(df_textb)\n",
    "df_textb"
   ]
  },
  {
   "cell_type": "code",
   "execution_count": 95,
   "metadata": {},
   "outputs": [
    {
     "data": {
      "text/plain": [
       "polarity        0.101214\n",
       "subjectivity    0.419147\n",
       "dtype: float64"
      ]
     },
     "execution_count": 95,
     "metadata": {},
     "output_type": "execute_result"
    }
   ],
   "source": [
    "# Again I'm not sure if using mean is logical, but I put it here as a reference just in case.\n",
    "df_textb.mean()"
   ]
  },
  {
   "cell_type": "code",
   "execution_count": null,
   "metadata": {},
   "outputs": [],
   "source": []
  }
 ],
 "metadata": {
  "kernelspec": {
   "display_name": "Python 3",
   "language": "python",
   "name": "python3"
  },
  "language_info": {
   "codemirror_mode": {
    "name": "ipython",
    "version": 3
   },
   "file_extension": ".py",
   "mimetype": "text/x-python",
   "name": "python",
   "nbconvert_exporter": "python",
   "pygments_lexer": "ipython3",
   "version": "3.7.6"
  }
 },
 "nbformat": 4,
 "nbformat_minor": 4
}
