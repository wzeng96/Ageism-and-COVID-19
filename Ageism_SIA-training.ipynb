{
 "cells": [
  {
   "cell_type": "code",
   "execution_count": 3,
   "metadata": {},
   "outputs": [],
   "source": [
    "import pandas as pd\n",
    "import nltk.data\n",
    "import numpy as np\n",
    "from nltk.tokenize import TreebankWordTokenizer\n",
    "\n",
    "# can reference to this website if interested: \n",
    "# https://medium.com/@sandeep.panchal545/sentiment-analysis-with-vader-label-the-unlabeled-data-8dd785225166\n",
    "\n",
    "# You might need to install some of the packages, let me know if you need help :)"
   ]
  },
  {
   "cell_type": "code",
   "execution_count": 4,
   "metadata": {},
   "outputs": [],
   "source": [
    "# load in data\n",
    "df = pd.read_csv(\"./Data/mar-apr_All(without COVID-19).csv\")"
   ]
  },
  {
   "cell_type": "code",
   "execution_count": 5,
   "metadata": {},
   "outputs": [
    {
     "data": {
      "text/html": [
       "<div>\n",
       "<style scoped>\n",
       "    .dataframe tbody tr th:only-of-type {\n",
       "        vertical-align: middle;\n",
       "    }\n",
       "\n",
       "    .dataframe tbody tr th {\n",
       "        vertical-align: top;\n",
       "    }\n",
       "\n",
       "    .dataframe thead th {\n",
       "        text-align: right;\n",
       "    }\n",
       "</style>\n",
       "<table border=\"1\" class=\"dataframe\">\n",
       "  <thead>\n",
       "    <tr style=\"text-align: right;\">\n",
       "      <th></th>\n",
       "      <th>title</th>\n",
       "      <th>text</th>\n",
       "      <th>media</th>\n",
       "      <th>word_count</th>\n",
       "    </tr>\n",
       "  </thead>\n",
       "  <tbody>\n",
       "    <tr>\n",
       "      <th>0</th>\n",
       "      <td>LGBTQ community may be 'particularly vulnerabl...</td>\n",
       "      <td>Hide highlightingAbstractTranslateUndo Transla...</td>\n",
       "      <td>USA Today (Online)</td>\n",
       "      <td>1336</td>\n",
       "    </tr>\n",
       "    <tr>\n",
       "      <th>1</th>\n",
       "      <td>Meghan McCain announces she's pregnant, self-i...</td>\n",
       "      <td>Hide highlightingAbstractTranslateUndo Transla...</td>\n",
       "      <td>USA Today (Online)</td>\n",
       "      <td>316</td>\n",
       "    </tr>\n",
       "    <tr>\n",
       "      <th>2</th>\n",
       "      <td>Sports Without Live Sports: [Correction]</td>\n",
       "      <td>Hide highlightingFull TextTranslateUndo Transl...</td>\n",
       "      <td>New York Times</td>\n",
       "      <td>847</td>\n",
       "    </tr>\n",
       "    <tr>\n",
       "      <th>3</th>\n",
       "      <td>Who gets a shot at life if hospitals run short...</td>\n",
       "      <td>Hide highlightingFull TextTranslateUndo Transl...</td>\n",
       "      <td>The Washington Post</td>\n",
       "      <td>2186</td>\n",
       "    </tr>\n",
       "    <tr>\n",
       "      <th>4</th>\n",
       "      <td>Survivors Fume as China Insists on Quiet Buria...</td>\n",
       "      <td>Hide highlightingFull TextTranslateUndo Transl...</td>\n",
       "      <td>New York Times</td>\n",
       "      <td>1608</td>\n",
       "    </tr>\n",
       "  </tbody>\n",
       "</table>\n",
       "</div>"
      ],
      "text/plain": [
       "                                               title  \\\n",
       "0  LGBTQ community may be 'particularly vulnerabl...   \n",
       "1  Meghan McCain announces she's pregnant, self-i...   \n",
       "2           Sports Without Live Sports: [Correction]   \n",
       "3  Who gets a shot at life if hospitals run short...   \n",
       "4  Survivors Fume as China Insists on Quiet Buria...   \n",
       "\n",
       "                                                text                media  \\\n",
       "0  Hide highlightingAbstractTranslateUndo Transla...   USA Today (Online)   \n",
       "1  Hide highlightingAbstractTranslateUndo Transla...   USA Today (Online)   \n",
       "2  Hide highlightingFull TextTranslateUndo Transl...       New York Times   \n",
       "3  Hide highlightingFull TextTranslateUndo Transl...  The Washington Post   \n",
       "4  Hide highlightingFull TextTranslateUndo Transl...       New York Times   \n",
       "\n",
       "   word_count  \n",
       "0        1336  \n",
       "1         316  \n",
       "2         847  \n",
       "3        2186  \n",
       "4        1608  "
      ]
     },
     "execution_count": 5,
     "metadata": {},
     "output_type": "execute_result"
    }
   ],
   "source": [
    "df.head()"
   ]
  },
  {
   "cell_type": "code",
   "execution_count": 6,
   "metadata": {},
   "outputs": [],
   "source": [
    "# extract text\n",
    "df_text = df.iloc[:,1]\n",
    "#df_text"
   ]
  },
  {
   "cell_type": "code",
   "execution_count": 7,
   "metadata": {},
   "outputs": [],
   "source": [
    "# Doing Sentiment Analysis for each candidates\n",
    "from nltk.sentiment.vader import SentimentIntensityAnalyzer\n",
    "#nltk.download('vader_lexicon')\n",
    "sia = SentimentIntensityAnalyzer()"
   ]
  },
  {
   "cell_type": "code",
   "execution_count": 8,
   "metadata": {},
   "outputs": [],
   "source": [
    "# Test each token as positive, negative or neutral, and generate a score\n",
    "\n",
    "df_table = []\n",
    "for i in df['text']:\n",
    "    df_scores = {}\n",
    "    df_scores['sia_positive'] = sia.polarity_scores(i)['pos']*100\n",
    "    df_scores['sia_negative'] = sia.polarity_scores(i)['neg']*100\n",
    "    df_scores['sia_neutral'] = sia.polarity_scores(i)['neu']*100\n",
    "    df_scores['sia_compound'] = sia.polarity_scores(i)['compound']\n",
    "    \n",
    "    df_table.append(df_scores)\n",
    "    \n",
    "#print(sia_table)"
   ]
  },
  {
   "cell_type": "code",
   "execution_count": 9,
   "metadata": {},
   "outputs": [
    {
     "name": "stdout",
     "output_type": "stream",
     "text": [
      "    sia_positive  sia_negative  sia_neutral  sia_compound\n",
      "0            9.1           7.6         83.3        0.9900\n",
      "1            9.8           2.6         87.7        0.9957\n",
      "2           15.7           4.9         79.4        0.9992\n",
      "3            9.2           7.8         83.0        0.9887\n",
      "4            9.4          10.9         79.8       -0.9735\n",
      "5            8.3           8.0         83.7        0.7662\n",
      "6            6.6           6.1         87.3        0.8890\n",
      "7            7.8          11.8         80.3       -0.9930\n",
      "8            7.5           6.4         86.1        0.9979\n",
      "9            7.5          12.7         79.7       -0.9971\n",
      "10           8.1           3.0         89.0        0.9978\n",
      "11           8.1          10.6         81.3       -0.9992\n",
      "12           9.3          11.2         79.4       -0.9941\n",
      "13           5.9           5.8         88.3        0.5890\n",
      "14           7.0           5.7         87.2        0.9857\n",
      "15          10.0           9.5         80.5        0.9554\n",
      "16          14.6           8.1         77.3        0.9988\n",
      "17           8.8          10.6         80.7       -0.9803\n",
      "18           8.0           9.4         82.6       -0.9920\n",
      "19           9.0           6.6         84.4        0.9971\n",
      "20           7.1           7.2         85.7       -0.6944\n",
      "21           8.7           5.4         85.9        0.9945\n",
      "22           8.8           4.7         86.5        0.9963\n",
      "23           7.6           5.6         86.8        0.9889\n",
      "24           5.9           4.3         89.8        0.9587\n",
      "25           6.3           5.4         88.3        0.9735\n",
      "26          10.7           1.3         88.1        0.9992\n",
      "27           6.7           8.0         85.4       -0.9465\n",
      "28           5.8           7.4         86.7       -0.9992\n",
      "29          13.8           7.5         78.7        0.9994\n",
      "30          12.5          10.3         77.2        0.9972\n",
      "31          12.5          10.5         76.9        0.9965\n",
      "32           8.5           3.9         87.6        0.9988\n",
      "33           7.1           7.2         85.7       -0.9925\n",
      "34           5.5           5.7         88.9       -0.5572\n",
      "35          11.6           7.3         81.1        0.9974\n",
      "36          10.3           3.8         85.9        0.9983\n",
      "37           6.7           4.5         88.7        0.9917\n",
      "38           8.9           5.1         86.0        0.9998\n",
      "39           8.7           3.5         87.8        0.9988\n",
      "40           7.5           7.4         85.1        0.5682\n",
      "41           7.4           6.5         86.2        0.9947\n"
     ]
    }
   ],
   "source": [
    "# See the results\n",
    "df_table = pd.DataFrame(df_table)\n",
    "#df_table=df_table.sort_values(by='sia_compound' , ascending=False).reset_index(drop=True)\n",
    "\n",
    "print(df_table)"
   ]
  },
  {
   "cell_type": "code",
   "execution_count": 10,
   "metadata": {},
   "outputs": [
    {
     "data": {
      "text/html": [
       "<div>\n",
       "<style scoped>\n",
       "    .dataframe tbody tr th:only-of-type {\n",
       "        vertical-align: middle;\n",
       "    }\n",
       "\n",
       "    .dataframe tbody tr th {\n",
       "        vertical-align: top;\n",
       "    }\n",
       "\n",
       "    .dataframe thead th {\n",
       "        text-align: right;\n",
       "    }\n",
       "</style>\n",
       "<table border=\"1\" class=\"dataframe\">\n",
       "  <thead>\n",
       "    <tr style=\"text-align: right;\">\n",
       "      <th></th>\n",
       "      <th>sia_positive</th>\n",
       "      <th>sia_negative</th>\n",
       "      <th>sia_neutral</th>\n",
       "      <th>sia_compound</th>\n",
       "    </tr>\n",
       "  </thead>\n",
       "  <tbody>\n",
       "    <tr>\n",
       "      <th>Mar - Apr 2020</th>\n",
       "      <td>8.769048</td>\n",
       "      <td>6.947619</td>\n",
       "      <td>84.285714</td>\n",
       "      <td>0.416271</td>\n",
       "    </tr>\n",
       "  </tbody>\n",
       "</table>\n",
       "</div>"
      ],
      "text/plain": [
       "                sia_positive  sia_negative  sia_neutral  sia_compound\n",
       "Mar - Apr 2020      8.769048      6.947619    84.285714      0.416271"
      ]
     },
     "execution_count": 10,
     "metadata": {},
     "output_type": "execute_result"
    }
   ],
   "source": [
    "# See what kinds of sentiment appear more\n",
    "df_mean = df_table.mean()\n",
    "df_mean = df_mean.to_frame().transpose()\n",
    "df_mean = df_mean.rename(index={0:'Mar - Apr 2020'})\n",
    "df_mean"
   ]
  },
  {
   "cell_type": "markdown",
   "metadata": {},
   "source": [
    "- General rules for compound values:\n",
    "    >x >= 0.05 positive | \n",
    "    -0.05 < x < 0.05 neutral | \n",
    "    x <= -0.05 negative\n",
    "    > \n"
   ]
  },
  {
   "cell_type": "code",
   "execution_count": 83,
   "metadata": {},
   "outputs": [],
   "source": [
    "def df_train(list):\n",
    "    df = []\n",
    "    for i in list:\n",
    "        df_scores = {}\n",
    "        df_scores['sia_positive'] = sia.polarity_scores(i)['pos']*100\n",
    "        df_scores['sia_negative'] = sia.polarity_scores(i)['neg']*100\n",
    "        df_scores['sia_neutral'] = sia.polarity_scores(i)['neu']*100\n",
    "        df_scores['sia_compound'] = sia.polarity_scores(i)['compound']\n",
    "    \n",
    "        df.append(df_scores)\n",
    "    \n",
    "    df = pd.DataFrame(df)\n",
    "    df_mean = df.mean() \n",
    "    print(df_mean) \n",
    "    print(df)"
   ]
  },
  {
   "cell_type": "code",
   "execution_count": 84,
   "metadata": {},
   "outputs": [],
   "source": [
    "# Method 1: Continue to use SentimentIntensityAnalyzer()\n",
    "test = df_text[0]\n",
    "a_list = nltk.tokenize.sent_tokenize(test)"
   ]
  },
  {
   "cell_type": "code",
   "execution_count": 85,
   "metadata": {},
   "outputs": [
    {
     "data": {
      "text/plain": [
       "['Cancel\\nOverlayEndTurn on search term navigationTurn on search term navigation\\n| Jump to first hitLOUISVILLE, Ky. – As the worldwide spread of COVID-19 has spiraled into a pandemic, national health organizations are warning that some members of the LGBTQ community may be “particularly vulnerable” to the effects of the virus.',\n",
       " 'While LGBTQ individuals have not been found to be more susceptible to contracting COVID-19, some health habits within the community, including significantly higher rates of smoking than the general population, have raised concern among health professionals.',\n",
       " 'Over 100 different national organizations, including Whitman-Walker Health and SAGE, have signed a letter created by the LGBT Cancer Network to bring attention to several factors that could mean the LGBTQ community is at a greater risk of complications from COVID-19, including: LGBTQ people smoke at rates 50% higher than the general population, which could be detrimental if a respiratory illness like COVID-19 is contracted.',\n",
       " 'Higher rates of HIV and cancer in the LGBTQ community means that a greater number of people may have compromised immune systems, which leaves them more vulnerable to COVID-19 infections.',\n",
       " 'Health care discrimination in America, including denial of care, unwelcoming attitudes and lack of understanding from staff and providers means LGBTQ people may be more reluctant to seek medical care.',\n",
       " 'Not your standard Q-tips: Coronavirus test swabs running out as testing ramps up School closings: Will states need to hold kids back, institute summer school because of coronavirus?',\n",
       " 'In addition, the LGBT Cancer Network warns, there are more than 3 million LGBTQ+ elderly people living in the U. S. who are already less likely than their heterosexual and cisgender peers to reach out to health and aging providers, like senior centers, meal programs and other programs designed to ensure their health and wellness because they fear discrimination and harassment.',\n",
       " \"'A time to pay attention to vulnerable communities' LGBTQ communities are all-too familiar with the phenomena of stigma and epidemics, said Chris Hartman, director of Kentucky's Fairness Campaign.\",\n",
       " \"Groups like the Fairness Campaign, SAGE of the Bluegrass and Louisville Pride Foundation have been meeting via conference calls this week to talk about how to provide resources for the Commonwealth's LGBTQ community.\",\n",
       " '\"Our queer community was wholly ignored for years at the beginning of the AIDS crisis, and we saw where that led,\" Hartman told The Louisville Courier Journal, part of the USA TODAY Network.',\n",
       " '\"HIV/AIDS devastated the LGBTQ community .',\n",
       " '.',\n",
       " '.',\n",
       " \"unhindered because of the government's intentional inaction as disrespect for LGBTQ people in our community.\",\n",
       " '\"This is a time to pay attention to vulnerable communities, not just folks who are in the age range at risk of contracting COVID-19,\" Hartman said.',\n",
       " '\"We need to be talking about people with suppressed immune systems and those who need to be supported most in a time like this. \"',\n",
       " 'Physician Scott Nass was watching closely over the past few months, acutely aware of how COVID-19 may affect his LGBTQ patients.',\n",
       " 'The Kentucky native who works in Palm Springs, California, knows that HIV and cancer are more common in LGBTQ communities – not only because of lifestyle choices, such as higher smoking rates, but because of prolonged or delayed access to care.',\n",
       " \"Folks who identify as LGBTQ don't always feel welcome in the health care environment, Nass told The Louisville Courier Journal, pointing to studies that have found they often report episodes of emotional and psychological trauma from their experiences dealing with the health care system.\",\n",
       " \"A fatalist feeling for some: 'If I get it, I get it' It took Louisville lawyer Bruce Kleinschmidt months to find a new primary care doctor after switching from a practice where he says he experienced homophobic comments from his physician.\",\n",
       " '\"There\\'s a huge problem with finding a primary care doctor to begin with, even when there\\'s not a crisis going on,\" Kleinschmidt said.',\n",
       " 'As COVID-19 has spread and federal, state and local governments are mandating social distancing in an effort to stop or slow the spread of contagious diseases by restricting contact with people, especially in large groups, Kleinschmidt says he\\'s noticed a common fatalist feeling among his peers in the LGBTQ community – folks saying, \"If I get it, I get it. \"',\n",
       " 'But the 67-year-old lawyer, who has liver disease, is concerned about his own susceptibility to the virus, and how he may be treated if he needs to seek medical care.',\n",
       " 'Many states, including Kentucky, do not have laws prohibiting health insurance companies from discriminating based on gender or sexual orientation, according to the Movement Advancement Project.',\n",
       " 'Even young or healthy LGBTQ people may be less likely to seek care, Nass said.',\n",
       " '\"But now that we\\'re dealing with coronavirus, something as simple as asthma could really be the difference between a mild case and being placed on a ventilator in the hospital,\" he said.',\n",
       " '\"So it\\'s important that we\\'re making sure that folks get into care early. \"',\n",
       " \"Uncooperative coronavirus patients: Kentucky man who tests positive for coronavirus refuses to stay home; N. J. woman gives fake name Still, 'a sense of resilience in the LGBTQ community' About 80% of the people who get COVID-19 have mild or no symptoms, according to the World Health Organization.\",\n",
       " 'But older adults and people with serious chronic medical conditions – including heart disease, diabetes and lung disease – are at higher risk, according to the Centers for Disease Control and Prevention.',\n",
       " 'Symptoms include difficulty breathing or shortness of breath, as well as pain or pressure in the chest, which can lead to a type of respiratory pneumonia in the lungs.',\n",
       " 'Doctors are still working on estimating the mortality rate of COVID-19, but it is thought to be higher than most flu strains, according to Johns Hopkins Medicine.',\n",
       " 'That is partly because this is a new coronavirus, and people have no immunity to it.',\n",
       " \"The pandemic is showing us that the country needs to be equipped to take care of a lot of patients in a very short period of time, Nass added – whether that's screening hundreds of people a day through drive-thru tents or on a phone line – to halt the contagion.\",\n",
       " '\"We\\'re not saying that LGBTQ folks need special treatment in this pandemic, but there needs to be consideration of the disparities in health equity for our community,\" said Nass, who is also the president of GLMA: Health Professionals Advancing LGBTQ Equality.',\n",
       " 'Nass said there is some concern that young queer people may be turned away from testing if they don\\'t fit the \"at-risk\" age demographic, which is why the LGBT Cancer Network is calling on public health officials to ensure the LGBTQ community is considered and included in the public health response to COVID-19.',\n",
       " '\"Hopefully we can draw our attention to the fact that physicians need to create welcoming environments for people of all identities while providing care, especially in this type of pandemic when people are panicking and unsure,\" Nass said.',\n",
       " '\"I think that\\'s when it\\'s more important than ever to make sure that folks have somewhere that they can turn to. \"',\n",
       " \"The Louisville Courier Journal contacted the University of Louisville Hospital, University of Kentucky's LGBT-inclusive Transform Health Clinic and Norton Healthcare to learn more about how Kentucky health providers are considering the LGBTQ community in its treatment of COVID-19, but representatives did not respond to multiple requests for comment as of press time.\",\n",
       " \"For Hartman and others, there's a sense of resilience in the LGBTQ community.\",\n",
       " '\"We have survived,\" Hartman said.',\n",
       " '\"And I know that we will continue to endure and to embrace our community as we have survived so many hardships for so long.',\n",
       " 'It is through the love and mutual support of our very vibrant, diverse and strong community that we get through this before we see the light at the end of this tunnel. \"',\n",
       " 'Follow reporter Savannah Eadens on Twitter at @savannaheadens.',\n",
       " \"'Gross misjudgment': Experts say Trump's decision to disband pandemic team hindered coronavirus response 2020 election: Bernie Sanders reassessing campaign after recent primary losses This article originally appeared on Louisville Courier Journal: LGBTQ community may be 'particularly vulnerable' to coronavirus pandemic.\",\n",
       " \"Here's why.\"]"
      ]
     },
     "execution_count": 85,
     "metadata": {},
     "output_type": "execute_result"
    }
   ],
   "source": [
    "# This is the part where it gets time consuming. I get rid of the \"noise\" words and sentences, but there are at different positions for each \n",
    "# articles, so we need to go through all the articles, it's not hard, it just takes time.\n",
    "a_list = a_list[11:56]\n",
    "a_list"
   ]
  },
  {
   "cell_type": "code",
   "execution_count": 86,
   "metadata": {},
   "outputs": [
    {
     "name": "stdout",
     "output_type": "stream",
     "text": [
      "sia_positive     8.513333\n",
      "sia_negative     8.060000\n",
      "sia_neutral     78.984444\n",
      "sia_compound    -0.008404\n",
      "dtype: float64\n",
      "    sia_positive  sia_negative  sia_neutral  sia_compound\n",
      "0            0.0           8.9         91.1       -0.5267\n",
      "1            0.0           0.0        100.0        0.0000\n",
      "2            9.7          12.7         77.6       -0.4939\n",
      "3           16.4          18.0         65.6       -0.3804\n",
      "4           24.5          11.7         63.8        0.7190\n",
      "5            0.0           0.0        100.0        0.0000\n",
      "6           12.4          17.0         70.7       -0.6597\n",
      "7            0.0          11.3         88.7       -0.3182\n",
      "8           13.6           0.0         86.4        0.5994\n",
      "9            0.0          17.1         82.9       -0.7506\n",
      "10           0.0          50.0         50.0       -0.6124\n",
      "11           0.0           0.0          0.0        0.0000\n",
      "12           0.0           0.0          0.0        0.0000\n",
      "13           0.0          27.0         73.0       -0.5859\n",
      "14           0.0          19.7         80.3       -0.5267\n",
      "15          26.6           0.0         73.4        0.7402\n",
      "16           0.0           0.0        100.0        0.0000\n",
      "17           9.3          10.9         79.8        0.0644\n",
      "18          15.3          10.1         74.6        0.4059\n",
      "19          12.0           3.8         84.2        0.4939\n",
      "20          32.0           9.8         58.2        0.7264\n",
      "21           2.5          14.2         83.3       -0.7351\n",
      "22           9.9           0.0         90.1        0.4939\n",
      "23           0.0           0.0        100.0        0.0000\n",
      "24          31.2           0.0         68.8        0.7096\n",
      "25           0.0           0.0        100.0        0.0000\n",
      "26          43.1           0.0         56.9        0.7635\n",
      "27           6.7           9.8         83.5       -0.1779\n",
      "28           0.0          10.8         89.2       -0.3400\n",
      "29           6.2          23.2         70.6       -0.7003\n",
      "30           0.0          22.0         78.0       -0.7939\n",
      "31           0.0          13.6         86.4       -0.2960\n",
      "32           6.5           6.1         87.4        0.0516\n",
      "33           4.4           0.0         95.6        0.2144\n",
      "34           4.4          11.0         84.6       -0.6007\n",
      "35          23.3           6.2         70.5        0.7906\n",
      "36          18.8           0.0         81.2        0.5256\n",
      "37           0.0           0.0        100.0        0.0000\n",
      "38           0.0           0.0        100.0        0.0000\n",
      "39           0.0           0.0        100.0        0.0000\n",
      "40          21.1           0.0         78.9        0.6808\n",
      "41          33.2           0.0         66.8        0.9312\n",
      "42           0.0           0.0        100.0        0.0000\n",
      "43           0.0          17.8         82.2       -0.7902\n",
      "44           0.0           0.0        100.0        0.0000\n"
     ]
    }
   ],
   "source": [
    "# First Article\n",
    "df_train(a_list)"
   ]
  },
  {
   "cell_type": "code",
   "execution_count": 87,
   "metadata": {},
   "outputs": [],
   "source": [
    "# Second Article\n",
    "b_list = nltk.tokenize.sent_tokenize(df['text'][1])"
   ]
  },
  {
   "cell_type": "code",
   "execution_count": 88,
   "metadata": {},
   "outputs": [
    {
     "data": {
      "text/plain": [
       "['Cancel\\nOverlayEndTurn on search term navigationTurn on search term navigation\\n| Jump to first hit\"The View\" host Meghan McCain has announced she\\'s pregnant and will go into self-isolation immediately \"for the safety of my baby and myself. \"',\n",
       " 'McCain, 35, announced the pregnancy news with her husband, Ben Domenech, on Instagram Sunday, eight months after opening up about her miscarriage.',\n",
       " '\"My husband Ben and I have been blessed to find I\\'m pregnant,\" McCain wrote.',\n",
       " '\"Although this isn\\'t how I expected to announce my pregnancy, both we and our families are excited to share the news with you. \"',\n",
       " '\\'I am not hiding anymore\\': Meghan McCain opens up about \\'horrendous\\' miscarriage McCain said she will continue her role on the \"The View\" remotely.',\n",
       " '\"Starting immediately, I\\'ll be joining the millions of Americans who are self-isolating as a precaution to prevent the spread of COVID-19.',\n",
       " \"As I result, I will be appearing on 'The View' from home via satellite.\",\n",
       " 'I\\'m fortunate, my employer, ABC, has allowed me and my co-hosts to work remotely. \"',\n",
       " '\"View\" co-host Sunny Hostin was one of the first to comment, writing, \"Congratulations!!!!\"',\n",
       " 'Tulsi Gabbard, a member of the House of Representatives and former presidential candidate, wrote, \"I\\'m crying for you right now.',\n",
       " 'So so so happy for you, Meghan. \"',\n",
       " 'McCain has been married to conservative pundit Domenech since 2017.',\n",
       " 'In a February New York Times op-ed discussing her miscarriage, McCain wrote, \"To the end of my days I will remember this child. \"',\n",
       " '\"I am not hiding anymore…Women need to be able to speak about this publicly, without the stigma and the lack of knowledge that pervades the issue,\" she wrote.',\n",
       " '\"I have love for all the women who, like me, were briefly in the sisterhood of motherhood, hoping, praying and nursing joy within us, until the day the joy was over.',\n",
       " 'You are not alone. \"',\n",
       " 'This article originally appeared on USA TODAY: Meghan McCain announces she\\'s pregnant, self-isolating and appearing remotely on \\'The View\\'Word count: 316Show lessYou have requested \"on-the-fly\" machine translation of selected content from our databases.',\n",
       " 'This functionality is provided solely for your convenience and is in no way intended to replace human translation.',\n",
       " 'Show full disclaimerNeither ProQuest nor its licensors make any representations or warranties with respect to the translations.',\n",
       " 'The translations are automatically generated \"AS IS\" and \"AS AVAILABLE\" and are not retained in our systems.']"
      ]
     },
     "execution_count": 88,
     "metadata": {},
     "output_type": "execute_result"
    }
   ],
   "source": [
    "b_list = b_list[13:33]\n",
    "b_list"
   ]
  },
  {
   "cell_type": "code",
   "execution_count": 89,
   "metadata": {},
   "outputs": [
    {
     "name": "stdout",
     "output_type": "stream",
     "text": [
      "sia_positive    12.855000\n",
      "sia_negative     2.265000\n",
      "sia_neutral     84.880000\n",
      "sia_compound     0.206885\n",
      "dtype: float64\n",
      "    sia_positive  sia_negative  sia_neutral  sia_compound\n",
      "0            7.2           5.2         87.6        0.2023\n",
      "1            0.0           0.0        100.0        0.0000\n",
      "2           24.5           0.0         75.5        0.5994\n",
      "3           18.7           0.0         81.3        0.5574\n",
      "4            7.6           0.0         92.4        0.2235\n",
      "5            5.5           0.0         94.5        0.0258\n",
      "6            0.0           0.0        100.0        0.0000\n",
      "7           18.2           0.0         81.8        0.4404\n",
      "8           24.8           0.0         75.2        0.6083\n",
      "9            0.0          14.7         85.3       -0.4767\n",
      "10          47.5           0.0         52.5        0.7520\n",
      "11           0.0           0.0        100.0        0.0000\n",
      "12           0.0           0.0        100.0        0.0000\n",
      "13           6.3           7.6         86.1       -0.1058\n",
      "14          43.9           0.0         56.1        0.9618\n",
      "15          36.7           0.0         63.3        0.1877\n",
      "16           0.0           0.0        100.0        0.0000\n",
      "17           0.0          11.5         88.5       -0.2960\n",
      "18          16.2           0.0         83.8        0.4767\n",
      "19           0.0           6.3         93.7       -0.0191\n"
     ]
    }
   ],
   "source": [
    "df_train(b_list)"
   ]
  },
  {
   "cell_type": "code",
   "execution_count": 90,
   "metadata": {},
   "outputs": [
    {
     "data": {
      "text/plain": [
       "['Cancel\\nOverlayEndTurn on search term navigationTurn on search term navigation\\n| Jump to first hitSports Night 1998-2000Two seasons, 45 half-hour episodes.',\n",
       " 'Starring Felicity Huffman, Josh Charles, Peter Krause, Robert Guillaume, Joshua Malina, Sabrina Lloyd and William H. Macy.Aaron Sorkin\\'s workplace comedy set behind the scenes of a \"SportsCenter\"--esque show.WATCH ... if you like brainy banter, workplace comedies or \"The West Wing.\"',\n",
       " '\"Sports Night\" is Sorkin\\'s first foray into television, and its second season was the same year as first season of \"The West Wing.\"',\n",
       " 'Appropriately, though, \"Sports Night\" is lighter, sillier and more fun.',\n",
       " 'It\\'s a backstage look at a \"SportsCenter\"--esque show, staffed by appropriately witty and dazzling anchors, producers and staffers.',\n",
       " \"A lack of sports knowledge will not hinder your enjoyment of the series, so don't let that keep you away.\",\n",
       " \"The series' zippy dialogue is its own joy, but there's a tremendous emotional depth, compelling political agitation and some gleeful romantic arcs, too.SKIP ... if you hate patter.\",\n",
       " \"If Sorkin isn't for you, it really isn't -- and this is not the show that will change your mind.\",\n",
       " 'There\\'s also a laugh track in Season 1, which some find off-putting (luckily, it goes away), and absolutely all of the conversations about \"technology\" are laughably awful.HOW TO WATCH IT There\\'s a major dip in quality at the start of Season 2 -- but don\\'t throw in the towel, things pick back up, particularly as William H. Macy\\'s character gains traction.',\n",
       " '\"Sports Night\" is hugely bingeable, and if that\\'s part of your plan, make sure you can watch Season 1, Episodes 16 through 23 (the season finale) in one big chunk if at all possible.WHERE TO WATCH IT Purchase on Amazon Prime, iTunes, Google Play, VuduMargaret LyonsFriday Night Lights 2006-11Five seasons, 76 hourlong episodes.',\n",
       " 'Starring Kyle Chandler, Connie Britton, Taylor Kitsch, Zach Gilford, Scott Porter, Aimee Teegarden, Jesse Plemons and Michael B. Jordan.Texas high school football serves as the backdrop for a searingly emotional, grounded drama.WATCH ... if you want a TV show that will make you feel.',\n",
       " 'Let\\'s be crystal clear: One does not need to like or know anything about football to love \"Friday Night Lights.\"',\n",
       " \"In fact, even a deep loathing for aspects of football culture will not harm your ability to enjoy the show's thoughtfulness and authenticity.\",\n",
       " 'Kyle Chandler stars as Coach Taylor, not a perfect man necessarily, but a damn good one -- inspiring, committed and half of one of the best marriages TV has ever given us.',\n",
       " \"Coach Taylor is leading football drills and giving stirring pep talks, and sure, the team is playing football, but what we're really doing is learning how to be people of integrity and determination.\",\n",
       " 'You\\'ve probably heard people say \"clear eyes, full hearts, can\\'t lose.\"',\n",
       " 'It stays with you!SKIP ... if you hate anyone tugging your heartstrings.',\n",
       " \"Or if you can't stand stories about teenagers.HOW TO WATCH IT There is a weird plot misstep in Season 2 that people will warn you about.\",\n",
       " \"It's not the best plotline in the world, certainly, but power through -- it is nowhere near as catastrophic as some people make it sound.\",\n",
       " '\"Friday Night Lights\" can be pretty bingey, but be careful: It\\'s five seasons, but only 76 episodes (rather than the 110 you might expect), so it goes way faster than you think it will.',\n",
       " 'Also, there will be tears.WHERE TO WATCH IT Amazon Prime, StarzMargaret LyonsPitch 2016-17One season, ten hourlong episodes.',\n",
       " \"Starring Kylie Bunbury, Mark-Paul Gosselaar, Mark Consuelos and Mo McRae.A pitcher with a killer screwball is called up from the minors to become Major League Baseball's first female player.WATCH ... if you love baseball or feminist heroines who feel like real people.\",\n",
       " 'Kylie Bunbury brings charm and psychological depth to her portrayal of Ginny Baker, a pitching phenom and overnight celebrity who could easily have been a too-perfect \"strong woman\" stereotype.',\n",
       " 'Story lines that follow Ginny\\'s life on and off the field are interspersed with scenes from her childhood, as \"The Pitch\" zooms in on the family tensions that underlie her success.',\n",
       " 'But the show also devotes plenty of attention to her wary San Diego Padres teammates, particularly the aging team captain, Mike Lawson (Mark-Paul Gosselaar), and to the high-level power plays that shape sports franchises.SKIP ... if baseball bores you.',\n",
       " 'Unlike \"Friday Night Lights,\" which makes football the backdrop for small-town drama, \"The Pitch\" puts the politics and business of professional sports front and center.',\n",
       " 'Created in partnership with Major League Baseball, it also features extensive game sequences in just about every episode.HOW TO WATCH IT Try not to rush through the 10 episodes, which span a full baseball season.',\n",
       " \"(There's even an all-star break near the middle.)\",\n",
       " \"Limiting your viewing to one episode per day will help preserve the sense that time is passing as Ginny's star rises.WHERE TO WATCH IT Purchase on Amazon Prime, iTunes, Google Play, VuduJudy BermanPhotographFelicity Huffman, center, with Josh Malina, left, in Aaron Sorkin's show.\"]"
      ]
     },
     "execution_count": 90,
     "metadata": {},
     "output_type": "execute_result"
    }
   ],
   "source": [
    "# Third Article\n",
    "c_list = nltk.tokenize.sent_tokenize(df['text'][2])\n",
    "c_list = c_list[1:30]\n",
    "c_list"
   ]
  },
  {
   "cell_type": "code",
   "execution_count": 91,
   "metadata": {},
   "outputs": [
    {
     "name": "stdout",
     "output_type": "stream",
     "text": [
      "sia_positive    13.344828\n",
      "sia_negative     5.713793\n",
      "sia_neutral     80.931034\n",
      "sia_compound     0.323214\n",
      "dtype: float64\n",
      "    sia_positive  sia_negative  sia_neutral  sia_compound\n",
      "0            0.0           9.5         90.5       -0.2500\n",
      "1           17.6           0.0         82.4        0.7717\n",
      "2            0.0           0.0        100.0        0.0000\n",
      "3           41.1           0.0         58.9        0.6801\n",
      "4            0.0           0.0        100.0        0.0000\n",
      "5            0.0          23.5         76.5       -0.6398\n",
      "6           36.1          17.5         46.4        0.7906\n",
      "7            0.0           0.0        100.0        0.0000\n",
      "8           11.3           0.0         88.7        0.7184\n",
      "9           11.3           0.0         88.7        0.6597\n",
      "10           6.8           0.0         93.2        0.2263\n",
      "11          26.2           8.1         65.6        0.6898\n",
      "12          28.3          17.9         53.8        0.5086\n",
      "13          35.1          12.2         52.7        0.9091\n",
      "14          29.5           0.0         70.5        0.8658\n",
      "15          20.6           0.0         79.4        0.3818\n",
      "16           0.0          26.6         73.4       -0.6114\n",
      "17           0.0          12.4         87.6       -0.2732\n",
      "18          17.5           7.4         75.0        0.4512\n",
      "19          11.1           0.0         88.9        0.4588\n",
      "20           9.6           0.0         90.4        0.1779\n",
      "21          18.6          10.8         70.6        0.6124\n",
      "22          24.9           6.8         68.2        0.7269\n",
      "23          10.5           7.6         81.9        0.2500\n",
      "24          10.7           5.4         83.9        0.3182\n",
      "25           0.0           0.0        100.0        0.0000\n",
      "26           5.7           0.0         94.3        0.2500\n",
      "27           0.0           0.0        100.0        0.0000\n",
      "28          14.5           0.0         85.5        0.7003\n"
     ]
    }
   ],
   "source": [
    "df_train(c_list)"
   ]
  },
  {
   "cell_type": "code",
   "execution_count": 92,
   "metadata": {},
   "outputs": [],
   "source": [
    "# Fourth Article\n",
    "d_list = nltk.tokenize.sent_tokenize(df['text'][3])\n",
    "d_list = d_list[1:83]"
   ]
  },
  {
   "cell_type": "code",
   "execution_count": 93,
   "metadata": {},
   "outputs": [
    {
     "name": "stdout",
     "output_type": "stream",
     "text": [
      "sia_positive     8.132927\n",
      "sia_negative     8.040244\n",
      "sia_neutral     83.825610\n",
      "sia_compound    -0.003277\n",
      "dtype: float64\n",
      "    sia_positive  sia_negative  sia_neutral  sia_compound\n",
      "0           12.1          14.1         73.8        0.1010\n",
      "1           16.7           0.0         83.3        0.5859\n",
      "2           16.1          10.6         73.3        0.3182\n",
      "3            0.0          34.2         65.8       -0.3818\n",
      "4            0.0          26.0         74.0       -0.9287\n",
      "..           ...           ...          ...           ...\n",
      "77           0.0          28.9         71.1       -0.7269\n",
      "78           0.0           0.0        100.0        0.0000\n",
      "79          15.9          46.2         37.9       -0.6124\n",
      "80          26.0           0.0         74.0        0.7951\n",
      "81           0.0           0.0        100.0        0.0000\n",
      "\n",
      "[82 rows x 4 columns]\n"
     ]
    }
   ],
   "source": [
    "df_train(d_list)"
   ]
  },
  {
   "cell_type": "code",
   "execution_count": 94,
   "metadata": {},
   "outputs": [],
   "source": [
    "# Fifth Article\n",
    "e_list = nltk.tokenize.sent_tokenize(df['text'][4])\n",
    "e_list = e_list[1:71]"
   ]
  },
  {
   "cell_type": "code",
   "execution_count": 95,
   "metadata": {},
   "outputs": [
    {
     "name": "stdout",
     "output_type": "stream",
     "text": [
      "sia_positive     5.870000\n",
      "sia_negative     8.558571\n",
      "sia_neutral     85.571429\n",
      "sia_compound    -0.080394\n",
      "dtype: float64\n",
      "    sia_positive  sia_negative  sia_neutral  sia_compound\n",
      "0            2.6          14.6         82.8       -0.7269\n",
      "1           10.0          17.9         72.1       -0.3612\n",
      "2            0.0          17.8         82.2       -0.3818\n",
      "3            0.0          16.7         83.3       -0.5267\n",
      "4            0.0           0.0        100.0        0.0000\n",
      "..           ...           ...          ...           ...\n",
      "65           0.0           0.0        100.0        0.0000\n",
      "66           0.0           0.0        100.0        0.0000\n",
      "67           0.0           0.0        100.0        0.0000\n",
      "68           0.0           0.0        100.0        0.0000\n",
      "69           0.0           0.0        100.0        0.0000\n",
      "\n",
      "[70 rows x 4 columns]\n"
     ]
    }
   ],
   "source": [
    "df_train(e_list)"
   ]
  },
  {
   "cell_type": "code",
   "execution_count": 96,
   "metadata": {},
   "outputs": [],
   "source": [
    "# Sixth Article\n",
    "f_list = nltk.tokenize.sent_tokenize(df['text'][5])\n",
    "f_list = f_list[1:48] "
   ]
  },
  {
   "cell_type": "code",
   "execution_count": 97,
   "metadata": {},
   "outputs": [
    {
     "name": "stdout",
     "output_type": "stream",
     "text": [
      "sia_positive     6.978723\n",
      "sia_negative     6.304255\n",
      "sia_neutral     86.714894\n",
      "sia_compound    -0.003526\n",
      "dtype: float64\n",
      "    sia_positive  sia_negative  sia_neutral  sia_compound\n",
      "0            9.5          11.8         78.7        0.0000\n",
      "1            0.0           0.0        100.0        0.0000\n",
      "2            0.0          16.7         83.3       -0.2960\n",
      "3            0.0           9.8         90.2       -0.0772\n",
      "4           14.1           0.0         85.9        0.7506\n",
      "5            9.7          27.2         63.1       -0.5574\n",
      "6           11.3          13.2         75.5       -0.2263\n",
      "7            0.0           0.0        100.0        0.0000\n",
      "8           16.2           0.0         83.8        0.7184\n",
      "9           18.7           0.0         81.3        0.7845\n",
      "10           0.0           0.0        100.0        0.0000\n",
      "11           0.0           7.2         92.8       -0.5859\n",
      "12           0.0           3.8         96.2       -0.1779\n",
      "13           7.7           9.6         82.7       -0.2764\n",
      "14          15.5           0.0         84.5        0.7717\n",
      "15           0.0           4.9         95.1       -0.1280\n",
      "16           8.7           9.0         82.3       -0.0516\n",
      "17          18.8          29.2         51.9       -0.4939\n",
      "18           0.0           0.0        100.0        0.0000\n",
      "19          23.1           0.0         76.9        0.6369\n",
      "20          34.5           0.0         65.5        0.7003\n",
      "21           0.0           0.0        100.0        0.0000\n",
      "22           0.0          18.0         82.0       -0.8481\n",
      "23          13.5           0.0         86.5        0.4215\n",
      "24           0.0           0.0        100.0        0.0000\n",
      "25           7.5          11.7         80.8       -0.3400\n",
      "26          12.7           0.0         87.3        0.5423\n",
      "27           0.0          15.7         84.3       -0.3818\n",
      "28          19.8           0.0         80.2        0.6369\n",
      "29           0.0          20.4         79.6       -0.9062\n",
      "30           0.0           0.0        100.0        0.0000\n",
      "31           4.8           4.7         90.5        0.0129\n",
      "32          13.1           8.4         78.5        0.3818\n",
      "33          38.3           0.0         61.7        0.7351\n",
      "34           0.0           8.5         91.5       -0.6036\n",
      "35          15.2           0.0         84.8        0.3612\n",
      "36           0.0           0.0        100.0        0.0000\n",
      "37           0.0          17.1         82.9       -0.5106\n",
      "38           0.0           0.0        100.0        0.0000\n",
      "39           0.0          18.0         82.0       -0.5106\n",
      "40           0.0           0.0        100.0        0.0000\n",
      "41           0.0           0.0        100.0        0.0000\n",
      "42           0.0          20.2         79.8       -0.5106\n",
      "43           0.0           0.0        100.0        0.0000\n",
      "44          15.3           0.0         84.7        0.2023\n",
      "45           0.0          11.2         88.8       -0.3400\n",
      "46           0.0           0.0        100.0        0.0000\n"
     ]
    }
   ],
   "source": [
    "df_train(f_list)"
   ]
  },
  {
   "cell_type": "code",
   "execution_count": 104,
   "metadata": {},
   "outputs": [],
   "source": [
    "#Seventh Article\n",
    "g_list = nltk.tokenize.sent_tokenize(df['text'][6])\n",
    "g_list = g_list[1:64] "
   ]
  },
  {
   "cell_type": "code",
   "execution_count": 105,
   "metadata": {},
   "outputs": [
    {
     "name": "stdout",
     "output_type": "stream",
     "text": [
      "sia_positive     6.233333\n",
      "sia_negative     5.563492\n",
      "sia_neutral     78.674603\n",
      "sia_compound    -0.001348\n",
      "dtype: float64\n",
      "    sia_positive  sia_negative  sia_neutral  sia_compound\n",
      "0            0.0           8.4         91.6       -0.3952\n",
      "1            0.0           2.8         97.2       -0.0572\n",
      "2           23.7           0.0         76.3        0.4767\n",
      "3            0.0          14.4         85.6       -0.4019\n",
      "4            0.0           0.0        100.0        0.0000\n",
      "..           ...           ...          ...           ...\n",
      "58          24.5           0.0         75.5        0.3804\n",
      "59           0.0           6.5         93.5       -0.1531\n",
      "60           0.0           0.0        100.0        0.0000\n",
      "61           9.4           0.0         90.6        0.3612\n",
      "62           0.0           0.0        100.0        0.0000\n",
      "\n",
      "[63 rows x 4 columns]\n"
     ]
    }
   ],
   "source": [
    "df_train(g_list)"
   ]
  },
  {
   "cell_type": "code",
   "execution_count": null,
   "metadata": {},
   "outputs": [],
   "source": []
  }
 ],
 "metadata": {
  "kernelspec": {
   "display_name": "Python 3",
   "language": "python",
   "name": "python3"
  },
  "language_info": {
   "codemirror_mode": {
    "name": "ipython",
    "version": 3
   },
   "file_extension": ".py",
   "mimetype": "text/x-python",
   "name": "python",
   "nbconvert_exporter": "python",
   "pygments_lexer": "ipython3",
   "version": "3.8.3"
  }
 },
 "nbformat": 4,
 "nbformat_minor": 4
}
